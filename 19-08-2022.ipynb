{
 "cells": [
  {
   "cell_type": "code",
   "execution_count": null,
   "id": "963abb10",
   "metadata": {},
   "outputs": [],
   "source": [
    "#x = int(input())\n",
    "#y = 2*x + 3\n",
    "#print(y)"
   ]
  },
  {
   "cell_type": "code",
   "execution_count": 15,
   "id": "ced65590",
   "metadata": {},
   "outputs": [
    {
     "name": "stdout",
     "output_type": "stream",
     "text": [
      "   X   Y\n",
      "0  1   5\n",
      "1  3   9\n",
      "2  2   7\n",
      "3  4  11\n",
      "4  5  13\n"
     ]
    }
   ],
   "source": [
    "import pandas as pd\n",
    "data = pd.read_csv('XYSet.csv')\n",
    "print(data)"
   ]
  },
  {
   "cell_type": "code",
   "execution_count": 26,
   "id": "729bff4b",
   "metadata": {
    "scrolled": false
   },
   "outputs": [
    {
     "data": {
      "text/plain": [
       "5"
      ]
     },
     "execution_count": 26,
     "metadata": {},
     "output_type": "execute_result"
    }
   ],
   "source": [
    "data[\"Y\"][0]"
   ]
  },
  {
   "cell_type": "code",
   "execution_count": 35,
   "id": "db3bf288",
   "metadata": {},
   "outputs": [
    {
     "ename": "SyntaxError",
     "evalue": "invalid syntax (1019100853.py, line 2)",
     "output_type": "error",
     "traceback": [
      "\u001b[1;36m  Input \u001b[1;32mIn [35]\u001b[1;36m\u001b[0m\n\u001b[1;33m    for\u001b[0m\n\u001b[1;37m        ^\u001b[0m\n\u001b[1;31mSyntaxError\u001b[0m\u001b[1;31m:\u001b[0m invalid syntax\n"
     ]
    }
   ],
   "source": [
    "def meanSquared(i):\n",
    "    for "
   ]
  },
  {
   "cell_type": "code",
   "execution_count": 34,
   "id": "76c35692",
   "metadata": {},
   "outputs": [
    {
     "name": "stdout",
     "output_type": "stream",
     "text": [
      "[3, 5, 4, 6, 7]\n"
     ]
    }
   ],
   "source": [
    "\n",
    "\n",
    "C = 2\n",
    "M = 1\n",
    "#C = 3\n",
    "#M = 2\n",
    "YBarValues = []\n",
    "\n",
    "for x in data[\"X\"]:\n",
    "    YBar = M*x +C\n",
    "    #print(YBar)\n",
    "    YBarValues.append(YBar)\n",
    "\n",
    "meanError = meanSquared(YBarValues)\n",
    "\n",
    "print(YBarValues)\n",
    "#YBar = "
   ]
  }
 ],
 "metadata": {
  "kernelspec": {
   "display_name": "Python 3 (ipykernel)",
   "language": "python",
   "name": "python3"
  },
  "language_info": {
   "codemirror_mode": {
    "name": "ipython",
    "version": 3
   },
   "file_extension": ".py",
   "mimetype": "text/x-python",
   "name": "python",
   "nbconvert_exporter": "python",
   "pygments_lexer": "ipython3",
   "version": "3.9.12"
  }
 },
 "nbformat": 4,
 "nbformat_minor": 5
}
