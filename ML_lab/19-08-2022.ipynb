{
 "cells": [
  {
   "cell_type": "code",
   "execution_count": 1,
   "id": "963abb10",
   "metadata": {},
   "outputs": [],
   "source": [
    "#x = int(input())\n",
    "#y = 2*x + 3\n",
    "#print(y)"
   ]
  },
  {
   "cell_type": "code",
   "execution_count": 2,
   "id": "991a494b",
   "metadata": {},
   "outputs": [],
   "source": [
    "#jupyter notebook --NotebookApp.allow_origin=\\'$(gp url 8888)\\'"
   ]
  },
  {
   "cell_type": "code",
   "execution_count": 1,
   "id": "ced65590",
   "metadata": {},
   "outputs": [
    {
     "name": "stdout",
     "output_type": "stream",
     "text": [
      "   X   Y\n",
      "0  1   5\n",
      "1  3   9\n",
      "2  2   7\n",
      "3  4  11\n",
      "4  5  13\n"
     ]
    }
   ],
   "source": [
    "import pandas as pd\n",
    "data = pd.read_csv('XYSet.csv')\n",
    "print(data)"
   ]
  },
  {
   "cell_type": "code",
   "execution_count": 2,
   "id": "729bff4b",
   "metadata": {
    "scrolled": true
   },
   "outputs": [
    {
     "data": {
      "text/plain": [
       "5"
      ]
     },
     "execution_count": 2,
     "metadata": {},
     "output_type": "execute_result"
    }
   ],
   "source": [
    "data[\"Y\"][0]"
   ]
  },
  {
   "cell_type": "markdown",
   "id": "46dc3e3d",
   "metadata": {},
   "source": [
    "### Algorithm\n",
    "- set initial value of C and M\n",
    "- calculate YBar for that C & M\n",
    "- cauculate Y - YBar\n",
    "- calculate meanSquaredError1\n",
    "- change C & M Value slightly, and calculate meanSquaredError2\n",
    "\n",
    "\n",
    "count = 0 <br>\n",
    "Compare():<br>\n",
    "count += 1<br>\n",
    "if (count == 10): <br>\n",
    "    return smth <br>\n",
    "- compare meanSquaredError1 and meanSquaredError2 \n",
    "    - if meanSquaredError1 > meanSquaredError2:\n",
    "        - change C & M in same direction\n",
    "        - calculate YBar and meanSquaredError1\n",
    "        Compare()\n",
    "    - else\n",
    "        - change C & M in oppposite direction"
   ]
  },
  {
   "cell_type": "code",
   "execution_count": 45,
   "id": "76c35692",
   "metadata": {},
   "outputs": [
    {
     "ename": "KeyError",
     "evalue": "23.040000000000006",
     "output_type": "error",
     "traceback": [
      "\u001b[0;31m---------------------------------------------------------------------------\u001b[0m",
      "\u001b[0;31mKeyError\u001b[0m                                  Traceback (most recent call last)",
      "\u001b[1;32m/workspace/REVA-University-CSE-Code/ML_lab/19-08-2022.ipynb Cell 6\u001b[0m in \u001b[0;36m<cell line: 86>\u001b[0;34m()\u001b[0m\n\u001b[1;32m     <a href='vscode-notebook-cell://shellraiser-revaunivers-afnojb019ex.ws-us62.gitpod.io/workspace/REVA-University-CSE-Code/ML_lab/19-08-2022.ipynb#W6sdnNjb2RlLXJlbW90ZQ%3D%3D?line=81'>82</a>\u001b[0m         \u001b[39mreturn\u001b[39;00m \u001b[39m0\u001b[39m\n\u001b[1;32m     <a href='vscode-notebook-cell://shellraiser-revaunivers-afnojb019ex.ws-us62.gitpod.io/workspace/REVA-University-CSE-Code/ML_lab/19-08-2022.ipynb#W6sdnNjb2RlLXJlbW90ZQ%3D%3D?line=82'>83</a>\u001b[0m     compareError(meanSquaredError1,meanSquaredError2,C,M)\n\u001b[0;32m---> <a href='vscode-notebook-cell://shellraiser-revaunivers-afnojb019ex.ws-us62.gitpod.io/workspace/REVA-University-CSE-Code/ML_lab/19-08-2022.ipynb#W6sdnNjb2RlLXJlbW90ZQ%3D%3D?line=85'>86</a>\u001b[0m compareError(meanSquaredError1,meanSquaredError2,C,M)\n",
      "\u001b[1;32m/workspace/REVA-University-CSE-Code/ML_lab/19-08-2022.ipynb Cell 6\u001b[0m in \u001b[0;36mcompareError\u001b[0;34m(meanSquaredError1, meanSquaredError2, C, M)\u001b[0m\n\u001b[1;32m     <a href='vscode-notebook-cell://shellraiser-revaunivers-afnojb019ex.ws-us62.gitpod.io/workspace/REVA-University-CSE-Code/ML_lab/19-08-2022.ipynb#W6sdnNjb2RlLXJlbW90ZQ%3D%3D?line=65'>66</a>\u001b[0m     \u001b[39m#print(YBar)\u001b[39;00m\n\u001b[1;32m     <a href='vscode-notebook-cell://shellraiser-revaunivers-afnojb019ex.ws-us62.gitpod.io/workspace/REVA-University-CSE-Code/ML_lab/19-08-2022.ipynb#W6sdnNjb2RlLXJlbW90ZQ%3D%3D?line=66'>67</a>\u001b[0m     YBarValues\u001b[39m.\u001b[39mappend(YBar)\n\u001b[0;32m---> <a href='vscode-notebook-cell://shellraiser-revaunivers-afnojb019ex.ws-us62.gitpod.io/workspace/REVA-University-CSE-Code/ML_lab/19-08-2022.ipynb#W6sdnNjb2RlLXJlbW90ZQ%3D%3D?line=67'>68</a>\u001b[0m     squaredErrors\u001b[39m.\u001b[39mappend((data[\u001b[39m\"\u001b[39;49m\u001b[39mY\u001b[39;49m\u001b[39m\"\u001b[39;49m][i] \u001b[39m-\u001b[39m YBar)\u001b[39m*\u001b[39m\u001b[39m*\u001b[39m\u001b[39m2\u001b[39m)\n\u001b[1;32m     <a href='vscode-notebook-cell://shellraiser-revaunivers-afnojb019ex.ws-us62.gitpod.io/workspace/REVA-University-CSE-Code/ML_lab/19-08-2022.ipynb#W6sdnNjb2RlLXJlbW90ZQ%3D%3D?line=70'>71</a>\u001b[0m sumOfSquaredErrors \u001b[39m=\u001b[39m \u001b[39m0\u001b[39m\n\u001b[1;32m     <a href='vscode-notebook-cell://shellraiser-revaunivers-afnojb019ex.ws-us62.gitpod.io/workspace/REVA-University-CSE-Code/ML_lab/19-08-2022.ipynb#W6sdnNjb2RlLXJlbW90ZQ%3D%3D?line=72'>73</a>\u001b[0m \u001b[39mfor\u001b[39;00m x \u001b[39min\u001b[39;00m squaredErrors:\n",
      "File \u001b[0;32m/workspace/.pyenv_mirror/user/current/lib/python3.8/site-packages/pandas/core/series.py:958\u001b[0m, in \u001b[0;36mSeries.__getitem__\u001b[0;34m(self, key)\u001b[0m\n\u001b[1;32m    955\u001b[0m     \u001b[39mreturn\u001b[39;00m \u001b[39mself\u001b[39m\u001b[39m.\u001b[39m_values[key]\n\u001b[1;32m    957\u001b[0m \u001b[39melif\u001b[39;00m key_is_scalar:\n\u001b[0;32m--> 958\u001b[0m     \u001b[39mreturn\u001b[39;00m \u001b[39mself\u001b[39;49m\u001b[39m.\u001b[39;49m_get_value(key)\n\u001b[1;32m    960\u001b[0m \u001b[39mif\u001b[39;00m is_hashable(key):\n\u001b[1;32m    961\u001b[0m     \u001b[39m# Otherwise index.get_value will raise InvalidIndexError\u001b[39;00m\n\u001b[1;32m    962\u001b[0m     \u001b[39mtry\u001b[39;00m:\n\u001b[1;32m    963\u001b[0m         \u001b[39m# For labels that don't resolve as scalars like tuples and frozensets\u001b[39;00m\n",
      "File \u001b[0;32m/workspace/.pyenv_mirror/user/current/lib/python3.8/site-packages/pandas/core/series.py:1069\u001b[0m, in \u001b[0;36mSeries._get_value\u001b[0;34m(self, label, takeable)\u001b[0m\n\u001b[1;32m   1066\u001b[0m     \u001b[39mreturn\u001b[39;00m \u001b[39mself\u001b[39m\u001b[39m.\u001b[39m_values[label]\n\u001b[1;32m   1068\u001b[0m \u001b[39m# Similar to Index.get_value, but we do not fall back to positional\u001b[39;00m\n\u001b[0;32m-> 1069\u001b[0m loc \u001b[39m=\u001b[39m \u001b[39mself\u001b[39;49m\u001b[39m.\u001b[39;49mindex\u001b[39m.\u001b[39;49mget_loc(label)\n\u001b[1;32m   1070\u001b[0m \u001b[39mreturn\u001b[39;00m \u001b[39mself\u001b[39m\u001b[39m.\u001b[39mindex\u001b[39m.\u001b[39m_get_values_for_loc(\u001b[39mself\u001b[39m, loc, label)\n",
      "File \u001b[0;32m/workspace/.pyenv_mirror/user/current/lib/python3.8/site-packages/pandas/core/indexes/range.py:389\u001b[0m, in \u001b[0;36mRangeIndex.get_loc\u001b[0;34m(self, key, method, tolerance)\u001b[0m\n\u001b[1;32m    387\u001b[0m             \u001b[39mraise\u001b[39;00m \u001b[39mKeyError\u001b[39;00m(key) \u001b[39mfrom\u001b[39;00m \u001b[39merr\u001b[39;00m\n\u001b[1;32m    388\u001b[0m     \u001b[39mself\u001b[39m\u001b[39m.\u001b[39m_check_indexing_error(key)\n\u001b[0;32m--> 389\u001b[0m     \u001b[39mraise\u001b[39;00m \u001b[39mKeyError\u001b[39;00m(key)\n\u001b[1;32m    390\u001b[0m \u001b[39mreturn\u001b[39;00m \u001b[39msuper\u001b[39m()\u001b[39m.\u001b[39mget_loc(key, method\u001b[39m=\u001b[39mmethod, tolerance\u001b[39m=\u001b[39mtolerance)\n",
      "\u001b[0;31mKeyError\u001b[0m: 23.040000000000006"
     ]
    }
   ],
   "source": [
    "C = 4.0\n",
    "M = 3.0\n",
    "# real values\n",
    "#C = 3\n",
    "#M = 2\n",
    "\n",
    "# calculate meansquaredError1\n",
    "YBarValues = []\n",
    "squaredErrors1 = []\n",
    "i = 0\n",
    "for x in data[\"X\"]:\n",
    "    YBar = M*x +C\n",
    "    #print(YBar)\n",
    "    YBarValues.append(YBar)\n",
    "    squaredErrors1.append((data[\"Y\"][i] - YBar)**2)\n",
    "    i += 1\n",
    "    \n",
    "    \n",
    "sumOfSquaredErrors = 0\n",
    "for i in squaredErrors1:\n",
    "    sumOfSquaredErrors += i\n",
    "meanSquaredError1 = sumOfSquaredErrors / len(data)\n",
    "\n",
    "\n",
    "# Change C & M Value Slightly\n",
    "C = C - 0.2\n",
    "M = M - 0.2\n",
    "\n",
    "# calculate meansquaredError2\n",
    "YBarValues = []\n",
    "squaredErrors2 = []\n",
    "i = 0\n",
    "for x in data[\"X\"]:\n",
    "    YBar = M*x +C\n",
    "    #print(YBar)\n",
    "    YBarValues.append(YBar)\n",
    "    squaredErrors2.append((data[\"Y\"][i] - YBar)**2)\n",
    "    i += 1\n",
    "    \n",
    "    \n",
    "sumOfSquaredErrors = 0\n",
    "for i in squaredErrors2:\n",
    "    sumOfSquaredErrors += i\n",
    "meanSquaredError2 = sumOfSquaredErrors / len(data)\n",
    "\n",
    "\n",
    "    \n",
    "count = 0\n",
    "def compareError(meanSquaredError1,meanSquaredError2,C,M):\n",
    "    #for i in range (10):\n",
    "    #print(i)\n",
    "    squaredErrors = []\n",
    "    C = C - 0.2\n",
    "    M = M - 0.2\n",
    "    #print(meanSquaredError2)\n",
    "    #print(meanSquaredError1)\n",
    "    #if (meanSquaredError2 > meanSquaredError1):\n",
    "    #print(\"IN\")\n",
    "    \n",
    "    # calculate meansquaredError1\n",
    "    YBarValues = []\n",
    "    \n",
    "    for x in data[\"X\"]:\n",
    "        #print(x)\n",
    "        YBar = M*x +C\n",
    "        #print(YBar)\n",
    "        YBarValues.append(YBar)\n",
    "        squaredErrors.append((data[\"Y\"][i] - YBar)**2)\n",
    "        \n",
    "    \n",
    "    sumOfSquaredErrors = 0\n",
    "    \n",
    "    for x in squaredErrors:\n",
    "        sumOfSquaredErrors += x\n",
    "    meanSquaredError2 = sumOfSquaredErrors / len(data)\n",
    "    #print(meanSquaredError1)\n",
    "    #print(meanSquaredError2)\n",
    "    if (meanSquaredError2 == 0):\n",
    "        print(C)\n",
    "        print(M)\n",
    "    #    print(i)\n",
    "        return 0\n",
    "    compareError(meanSquaredError1,meanSquaredError2,C,M)\n",
    "\n",
    "\n",
    "compareError(meanSquaredError1,meanSquaredError2,C,M)\n",
    "\n"
   ]
  }
 ],
 "metadata": {
  "kernelspec": {
   "display_name": "Python 3 (ipykernel)",
   "language": "python",
   "name": "python3"
  },
  "language_info": {
   "codemirror_mode": {
    "name": "ipython",
    "version": 3
   },
   "file_extension": ".py",
   "mimetype": "text/x-python",
   "name": "python",
   "nbconvert_exporter": "python",
   "pygments_lexer": "ipython3",
   "version": "3.8.13"
  },
  "vscode": {
   "interpreter": {
    "hash": "110cc1dee26208153f2972f08a2ad52b6a56238dc66d48e87fb757ef2996db56"
   }
  }
 },
 "nbformat": 4,
 "nbformat_minor": 5
}
