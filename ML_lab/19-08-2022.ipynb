{
 "cells": [
  {
   "cell_type": "code",
   "execution_count": null,
   "id": "963abb10",
   "metadata": {},
   "outputs": [],
   "source": [
    "#x = int(input())\n",
    "#y = 2*x + 3\n",
    "#print(y)"
   ]
  },
  {
   "cell_type": "code",
   "execution_count": null,
   "id": "991a494b",
   "metadata": {},
   "outputs": [],
   "source": [
    "#jupyter notebook --NotebookApp.allow_origin=\\'$(gp url 8888)\\'"
   ]
  },
  {
   "cell_type": "code",
   "execution_count": 2,
   "id": "ced65590",
   "metadata": {},
   "outputs": [
    {
     "name": "stdout",
     "output_type": "stream",
     "text": [
      "   X   Y\n",
      "0  1   5\n",
      "1  3   9\n",
      "2  2   7\n",
      "3  4  11\n",
      "4  5  13\n"
     ]
    }
   ],
   "source": [
    "import pandas as pd\n",
    "data = pd.read_csv('XYSet.csv')\n",
    "print(data)"
   ]
  },
  {
   "cell_type": "code",
   "execution_count": 3,
   "id": "729bff4b",
   "metadata": {
    "scrolled": false
   },
   "outputs": [
    {
     "data": {
      "text/plain": [
       "5"
      ]
     },
     "execution_count": 3,
     "metadata": {},
     "output_type": "execute_result"
    }
   ],
   "source": [
    "data[\"Y\"][0]"
   ]
  },
  {
   "cell_type": "code",
   "execution_count": null,
   "id": "78a04696",
   "metadata": {},
   "outputs": [],
   "source": [
    "def meanSquared(i):\n",
    "    for x in range(10):\n",
    "        if (x == 0):\n",
    "            for values in i:\n",
    "                squaredError = Y - \n",
    "                #sumOfSquaredError = \n",
    "                \n",
    "        if (x > 0):\n",
    "            for values in i:\n",
    "#    return smth"
   ]
  },
  {
   "cell_type": "code",
   "execution_count": 9,
   "id": "76c35692",
   "metadata": {},
   "outputs": [
    {
     "ename": "NameError",
     "evalue": "name 'squaredErrors2' is not defined",
     "output_type": "error",
     "traceback": [
      "\u001b[0;31m---------------------------------------------------------------------------\u001b[0m",
      "\u001b[0;31mNameError\u001b[0m                                 Traceback (most recent call last)",
      "Input \u001b[0;32mIn [9]\u001b[0m, in \u001b[0;36m<cell line: 41>\u001b[0;34m()\u001b[0m\n\u001b[1;32m     43\u001b[0m         sumOfSquaredErrors \u001b[38;5;241m=\u001b[39m sumOfSquaredErrors2\n\u001b[1;32m     44\u001b[0m         sumOfSquaredErrors2 \u001b[38;5;241m=\u001b[39m \u001b[38;5;241m0\u001b[39m\n\u001b[0;32m---> 45\u001b[0m         \u001b[43mstartHere\u001b[49m\u001b[43m(\u001b[49m\u001b[43mC\u001b[49m\u001b[43m,\u001b[49m\u001b[43m \u001b[49m\u001b[43mM\u001b[49m\u001b[43m)\u001b[49m\n\u001b[1;32m     48\u001b[0m \u001b[38;5;66;03m#meanError = meanSquared(YBarValues)\u001b[39;00m\n\u001b[1;32m     50\u001b[0m \u001b[38;5;28mprint\u001b[39m(sumOfSquaredErrors\u001b[38;5;241m/\u001b[39m\u001b[38;5;28mlen\u001b[39m(data))\n",
      "Input \u001b[0;32mIn [9]\u001b[0m, in \u001b[0;36mstartHere\u001b[0;34m(C, M)\u001b[0m\n\u001b[1;32m     33\u001b[0m     squaredErrors\u001b[38;5;241m.\u001b[39mappend((data[\u001b[38;5;124m\"\u001b[39m\u001b[38;5;124mY\u001b[39m\u001b[38;5;124m\"\u001b[39m][i] \u001b[38;5;241m-\u001b[39m YBar)\u001b[38;5;241m*\u001b[39m\u001b[38;5;241m*\u001b[39m\u001b[38;5;241m2\u001b[39m)\n\u001b[1;32m     34\u001b[0m     i \u001b[38;5;241m+\u001b[39m\u001b[38;5;241m=\u001b[39m \u001b[38;5;241m1\u001b[39m\n\u001b[0;32m---> 35\u001b[0m \u001b[38;5;28;01mfor\u001b[39;00m i \u001b[38;5;129;01min\u001b[39;00m \u001b[43msquaredErrors2\u001b[49m:\n\u001b[1;32m     36\u001b[0m     sumOfSquaredErrors2 \u001b[38;5;241m+\u001b[39m\u001b[38;5;241m=\u001b[39m i\n",
      "\u001b[0;31mNameError\u001b[0m: name 'squaredErrors2' is not defined"
     ]
    }
   ],
   "source": [
    "C = 2.0\n",
    "M = 1.8\n",
    "# real values\n",
    "#C = 3\n",
    "#M = 2\n",
    "YBarValues = []\n",
    "squaredErrors = []\n",
    "i = 0\n",
    "for x in data[\"X\"]:\n",
    "    YBar = M*x +C\n",
    "    #print(YBar)\n",
    "    YBarValues.append(YBar)\n",
    "    squaredErrors.append((data[\"Y\"][i] - YBar)**2)\n",
    "    i += 1\n",
    "    \n",
    "    \n",
    "sumOfSquaredErrors = 0\n",
    "for i in squaredErrors:\n",
    "    sumOfSquaredErrors += i\n",
    "    \n",
    "    \n",
    "    \n",
    "sumOfSquaredErrors2 = 0\n",
    "\n",
    "def startHere(C,M):\n",
    "    C = C - 0.2\n",
    "    M = M - 0.2\n",
    "    i = 0\n",
    "    for x in data[\"X\"]:\n",
    "        YBar = M*x +C\n",
    "    #print(YBar)\n",
    "        YBarValues.append(YBar)\n",
    "        squaredErrors.append((data[\"Y\"][i] - YBar)**2)\n",
    "        i += 1\n",
    "    for i in squaredErrors2:\n",
    "        sumOfSquaredErrors2 += i\n",
    "        \n",
    "        \n",
    "\n",
    "\n",
    "for i in range(10):\n",
    "    if (sumOfSquaredErrors2 < sumOfSquaredErrors):\n",
    "        sumOfSquaredErrors = sumOfSquaredErrors2\n",
    "        sumOfSquaredErrors2 = 0\n",
    "        startHere(C, M)\n",
    "        \n",
    "    \n",
    "#meanError = meanSquared(YBarValues)\n",
    "\n",
    "print(sumOfSquaredErrors/len(data))\n",
    "#YBar = "
   ]
  },
  {
   "cell_type": "code",
   "execution_count": null,
   "id": "d74d4d90",
   "metadata": {},
   "outputs": [],
   "source": [
    "flow:\n",
    "    \n"
   ]
  }
 ],
 "metadata": {
  "kernelspec": {
   "display_name": "Python 3 (ipykernel)",
   "language": "python",
   "name": "python3"
  },
  "language_info": {
   "codemirror_mode": {
    "name": "ipython",
    "version": 3
   },
   "file_extension": ".py",
   "mimetype": "text/x-python",
   "name": "python",
   "nbconvert_exporter": "python",
   "pygments_lexer": "ipython3",
   "version": "3.8.13"
  },
  "vscode": {
   "interpreter": {
    "hash": "110cc1dee26208153f2972f08a2ad52b6a56238dc66d48e87fb757ef2996db56"
   }
  }
 },
 "nbformat": 4,
 "nbformat_minor": 5
}
